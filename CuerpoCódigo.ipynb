{
 "cells": [
  {
   "cell_type": "code",
   "execution_count": null,
   "metadata": {},
   "outputs": [],
   "source": [
    "# Importación de paquetes necesarios\n",
    "import os         #Para crear directorios, archivos, etc\n",
    "import requests   #Para requests http\n",
    "import csv        #Tratamiento csv\n",
    "import argparse   #Para pedir entrada de argumentos por consola\n",
    "from datetime import datetime\n",
    "from datetime import timedelta\n",
    "from bs4 import BeautifulSoup   #Para extraer datos de archivos HTML y XML\n",
    "from requests import get\n",
    "\n",
    "# Entrada de argumentos. Strart Year y endYear, irán como parámetros en la función creaCsv\n",
    "parser = argparse.ArgumentParser()\n",
    "parser.add_argument(\"--startYear\", help=\"Introduce el año de creación desde el que quieres visualizar las películas top de filmafinity.\")\n",
    "parser.add_argument(\"--endYear\", help=\"Introduce el año de creación hasta el que quieres visualizar las películas top de filmafinity.\")\n",
    "args = parser.parse_args()\n",
    "\n",
    "\n",
    "# La siguiente función ejecuta una pregunta de años sobre los que quieres hacer consulta de las películas top y se genera un csv con la info de las películas\n",
    "def creaCsv(año_inicio, año_fin):\n",
    "\n",
    "  # Parámetros inamovibles para la función:\n",
    "  peliculas=[]                                                                                 #Lista a rellenar de películas premiadas\n",
    "  headerCsv=[\"País película\",\"Nombre Película\",\"Año creación\",\"Director\", \"Nota filafinity\"]   #Cabecera de la lista\n",
    "  peliculas.append(headerCsv)                                                                  #Añadimos cabecera\n",
    "  url = \"https://www.filmaffinity.com/es/topgen.php?genre=&fromyear=&toyear=&country=&nodoc\"   #Desde esta parte de la web es donde nos debemos situar para hacer la consulta a los distintos años\n",
    "  currentDir = os.path.dirname(__file__)\n",
    "  filename = \"TopFilmafinity.csv\"                                                               #Nombre del csv que se generará\n",
    "  filePath = os.path.join(currentDir, filename)                                                #Lo guardamos en la carpeta actual\n",
    "\n",
    "  response = get(url)\n",
    "  movie_containers = html_soup.find_all(\"div\", {\"class\": \"mc-info-container\"})\n",
    "\n",
    "  # Tenemos que rellenar el cuerpo de la fución en la que rellenamos peliculas según los años entrados en la función.\n",
    "  # Tendremos que hacer un bucle for con un if dentro, cuya función sea revisar si la peli está entre los años previstos e incorporarla a la lista\n",
    "  for i in movie_containers:\n",
    "    if ((movie_containers[i].find('div', class_ = 'mc-title').text > (año_inicio - 1)) & (movie_containers[i].find('div', class_ = 'mc-title').text < (año_fin + 1))):\n",
    "        # nuevaPeli = [movie_containers[i].pais; movie_containers[i].nombrePeli]...\n",
    "        peliculas.add(nuevaPeli)\n",
    "    i = i+1\n",
    "\n",
    "  # Escritura de datos de la lista peliculas a nuestro csv\n",
    "  with open(filePath, 'w', newline='') as csvFile:\n",
    "    writer = csv.writer(csvFile)\n",
    "    for pelicula_top in peliculas:\n",
    "      writer.writerow(pelicula_top)\n",
    "  \n",
    "  return\n",
    "\n",
    "\n",
    "# Introducción de fechas de consulta\n",
    "año_inicio = datetime.strptime(args.startYear, \"%Y\")\n",
    "año_fin = datetime.strptime(args.endYear,\"%Y\")\n",
    "    \n",
    "\n",
    "# Ejecución de función\n",
    "creaCsv(año_inicio, año_fin)"
   ]
  }
 ],
 "metadata": {
  "kernelspec": {
   "display_name": "Python 3",
   "language": "python",
   "name": "python3"
  },
  "language_info": {
   "codemirror_mode": {
    "name": "ipython",
    "version": 3
   },
   "file_extension": ".py",
   "mimetype": "text/x-python",
   "name": "python",
   "nbconvert_exporter": "python",
   "pygments_lexer": "ipython3",
   "version": "3.7.3"
  }
 },
 "nbformat": 4,
 "nbformat_minor": 2
}
